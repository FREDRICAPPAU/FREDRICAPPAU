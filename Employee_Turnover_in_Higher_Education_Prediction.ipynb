{
  "nbformat": 4,
  "nbformat_minor": 0,
  "metadata": {
    "colab": {
      "provenance": [],
      "mount_file_id": "1SwLPRG-Xyej-p0TtbqCHr7K4oBmXbzzU",
      "authorship_tag": "ABX9TyOZlEUHl3+KPpQ2c5HObc16",
      "include_colab_link": true
    },
    "kernelspec": {
      "name": "python3",
      "display_name": "Python 3"
    },
    "language_info": {
      "name": "python"
    }
  },
  "cells": [
    {
      "cell_type": "markdown",
      "metadata": {
        "id": "view-in-github",
        "colab_type": "text"
      },
      "source": [
        "<a href=\"https://colab.research.google.com/github/FREDRICAPPAU/FREDRICAPPAU/blob/main/Employee_Turnover_in_Higher_Education_Prediction.ipynb\" target=\"_parent\"><img src=\"https://colab.research.google.com/assets/colab-badge.svg\" alt=\"Open In Colab\"/></a>"
      ]
    },
    {
      "cell_type": "code",
      "execution_count": null,
      "metadata": {
        "id": "JEAmOm9r2x_l"
      },
      "outputs": [],
      "source": []
    },
    {
      "cell_type": "markdown",
      "source": [
        "# | Introduction"
      ],
      "metadata": {
        "id": "mBaPh2ZF29VB"
      }
    },
    {
      "cell_type": "markdown",
      "source": [
        "Employee turnover is a major issue in higher education, leading to challenges such as increased recruitment costs, knowledge loss, and disrupted student experiences. This project aims to develop predictive models using Python and visualize the results in Tableau to identify key predictors of employee turnover among faculty and staff. This study will evaluate how accurately models like logistic regression, decision trees, and random forests can predict turnover by analyzing datasets adapted from general HR data, such as the [Employee Turnover Dataset](https://). By utilizing this dataset, My aim is to the chances of turn over in higher education."
      ],
      "metadata": {
        "id": "7vQu84XN3AZZ"
      }
    },
    {
      "cell_type": "markdown",
      "source": [
        "# Predicting High Turnover in Higher Education Using Machine Learning"
      ],
      "metadata": {
        "id": "3DMJWame31jX"
      }
    },
    {
      "cell_type": "markdown",
      "source": [
        "In this analysis, we aim to predict employee turnover within the higher education sector, focusing on factors that contribute to faculty and staff leaving their positions. The models and methodology described here will help us analyze which attributes (e.g., job satisfaction, work-life balance, department, etc.) are most influential in turnover within universities and colleges. The workflow will include exploratory data analysis (EDA), data preprocessing, and building predictive models using Python. The final analysis will be visualized with Tableau to deliver insights into potential turnover trends."
      ],
      "metadata": {
        "id": "3FRcPco955fl"
      }
    },
    {
      "cell_type": "markdown",
      "source": [
        "# Data Overview and Source"
      ],
      "metadata": {
        "id": "oNQhQOPv6dMH"
      }
    },
    {
      "cell_type": "markdown",
      "source": [
        "For this project, we will modify an employee turnover dataset to suit the higher education context. The attributes include job satisfaction, salary, department, promotion history, and others. The goal is to predict whether faculty or staff members are likely to leave their roles in the next academic year."
      ],
      "metadata": {
        "id": "bpq59BnC6h04"
      }
    },
    {
      "cell_type": "markdown",
      "source": [
        "# Objectives"
      ],
      "metadata": {
        "id": "0Gfq161G7jVp"
      }
    },
    {
      "cell_type": "markdown",
      "source": [
        "The main objectives of this analysis are:\n",
        "\n",
        "1.   To identify key factors contributing to employee turnover.\n",
        "\n",
        "2.   To build and evaluate machine learning models that predict employee turnover.\n",
        "3.  To assess the accuracy and performance of each model.\n",
        "\n",
        "\n",
        "\n"
      ],
      "metadata": {
        "id": "leD62QvM7m3k"
      }
    },
    {
      "cell_type": "markdown",
      "source": [
        "# Dataset"
      ],
      "metadata": {
        "id": "KTK0F-nG6pMp"
      }
    },
    {
      "cell_type": "markdown",
      "source": [
        "[Employee Turnover Dataset](https://www.kaggle.com/datasets/davinwijaya/employee-turnover)\n",
        "The dataset will be adapted to reflect academic settings, and additional data (such as faculty tenure or teaching load) may be added if available.  "
      ],
      "metadata": {
        "id": "6KN33QiW6sqb"
      }
    },
    {
      "cell_type": "markdown",
      "source": [
        "# Data Processing"
      ],
      "metadata": {
        "id": "Qt1W_Ptu9ccU"
      }
    },
    {
      "cell_type": "markdown",
      "source": [
        "This section will involve handling missing values, encoding categorical variables, and scaling numerical features for better model performance.\n",
        "\n",
        "\n",
        "Code and Implementation:\n",
        "\n",
        "1.   We start by importing the dataset and libraries.\n",
        "2.   Categorical variables such as JobRole are encoded using LabelEncoder to convert them into numerical values.\n",
        "3.   Missing values are handled by filling in the mean, and numerical features are scaled to bring them into comparable ranges.\n",
        "\n",
        "\n",
        "\n",
        "\n",
        "\n"
      ],
      "metadata": {
        "id": "4taGlOLr9g3c"
      }
    },
    {
      "cell_type": "markdown",
      "source": [
        "# Data Processing Code Implementation"
      ],
      "metadata": {
        "id": "-Qt5TWL1GUGl"
      }
    },
    {
      "cell_type": "code",
      "source": [
        "# Import necessary libraries\n",
        "import pandas as pd\n",
        "import numpy as np\n",
        "from sklearn.model_selection import train_test_split\n",
        "from sklearn.preprocessing import StandardScaler, LabelEncoder\n",
        "from sklearn.metrics import accuracy_score, confusion_matrix, classification_report\n",
        "\n",
        "# Load the dataset\n",
        "file_path = '/content/drive/MyDrive/Grad School/Classes/MSA550- Predictive Analytics M, W 3:30-4:45  (Fall24)/Pred. Analyt. Employee Turnover Project/turnover_v1.csv' # Specify the file path within your Google Drive\n",
        "df = pd.read_csv(file_path)\n",
        "\n",
        "# Inspecting the dataset\n",
        "df.head()\n"
      ],
      "metadata": {
        "colab": {
          "base_uri": "https://localhost:8080/",
          "height": 226
        },
        "id": "vR_vbpH1GX2D",
        "outputId": "fa437a7f-30f6-4bbe-fbd9-cd7f79b4c6a9"
      },
      "execution_count": 2,
      "outputs": [
        {
          "output_type": "execute_result",
          "data": {
            "text/plain": [
              "        stag  event gender   age         industry  profession      traffic  \\\n",
              "0   7.030801      1      m  35.0            Banks          HR  rabrecNErab   \n",
              "1  22.965092      1      m  33.0            Banks          HR        empjs   \n",
              "2  15.934292      1      f  35.0  PowerGeneration          HR  rabrecNErab   \n",
              "3  15.934292      1      f  35.0  PowerGeneration          HR  rabrecNErab   \n",
              "4   8.410678      1      m  32.0           Retail  Commercial        youjs   \n",
              "\n",
              "  coach head_gender greywage  way  extraversion  independ  selfcontrol  \\\n",
              "0    no           f    white  bus           6.2       4.1          5.7   \n",
              "1    no           m    white  bus           6.2       4.1          5.7   \n",
              "2    no           m    white  bus           6.2       6.2          2.6   \n",
              "3    no           m    white  bus           5.4       7.6          4.9   \n",
              "4   yes           f    white  bus           3.0       4.1          8.0   \n",
              "\n",
              "   anxiety  novator  \n",
              "0      7.1      8.3  \n",
              "1      7.1      8.3  \n",
              "2      4.8      8.3  \n",
              "3      2.5      6.7  \n",
              "4      7.1      3.7  "
            ],
            "text/html": [
              "\n",
              "  <div id=\"df-b13b2cd5-3334-41ea-ad84-5d512d50233c\" class=\"colab-df-container\">\n",
              "    <div>\n",
              "<style scoped>\n",
              "    .dataframe tbody tr th:only-of-type {\n",
              "        vertical-align: middle;\n",
              "    }\n",
              "\n",
              "    .dataframe tbody tr th {\n",
              "        vertical-align: top;\n",
              "    }\n",
              "\n",
              "    .dataframe thead th {\n",
              "        text-align: right;\n",
              "    }\n",
              "</style>\n",
              "<table border=\"1\" class=\"dataframe\">\n",
              "  <thead>\n",
              "    <tr style=\"text-align: right;\">\n",
              "      <th></th>\n",
              "      <th>stag</th>\n",
              "      <th>event</th>\n",
              "      <th>gender</th>\n",
              "      <th>age</th>\n",
              "      <th>industry</th>\n",
              "      <th>profession</th>\n",
              "      <th>traffic</th>\n",
              "      <th>coach</th>\n",
              "      <th>head_gender</th>\n",
              "      <th>greywage</th>\n",
              "      <th>way</th>\n",
              "      <th>extraversion</th>\n",
              "      <th>independ</th>\n",
              "      <th>selfcontrol</th>\n",
              "      <th>anxiety</th>\n",
              "      <th>novator</th>\n",
              "    </tr>\n",
              "  </thead>\n",
              "  <tbody>\n",
              "    <tr>\n",
              "      <th>0</th>\n",
              "      <td>7.030801</td>\n",
              "      <td>1</td>\n",
              "      <td>m</td>\n",
              "      <td>35.0</td>\n",
              "      <td>Banks</td>\n",
              "      <td>HR</td>\n",
              "      <td>rabrecNErab</td>\n",
              "      <td>no</td>\n",
              "      <td>f</td>\n",
              "      <td>white</td>\n",
              "      <td>bus</td>\n",
              "      <td>6.2</td>\n",
              "      <td>4.1</td>\n",
              "      <td>5.7</td>\n",
              "      <td>7.1</td>\n",
              "      <td>8.3</td>\n",
              "    </tr>\n",
              "    <tr>\n",
              "      <th>1</th>\n",
              "      <td>22.965092</td>\n",
              "      <td>1</td>\n",
              "      <td>m</td>\n",
              "      <td>33.0</td>\n",
              "      <td>Banks</td>\n",
              "      <td>HR</td>\n",
              "      <td>empjs</td>\n",
              "      <td>no</td>\n",
              "      <td>m</td>\n",
              "      <td>white</td>\n",
              "      <td>bus</td>\n",
              "      <td>6.2</td>\n",
              "      <td>4.1</td>\n",
              "      <td>5.7</td>\n",
              "      <td>7.1</td>\n",
              "      <td>8.3</td>\n",
              "    </tr>\n",
              "    <tr>\n",
              "      <th>2</th>\n",
              "      <td>15.934292</td>\n",
              "      <td>1</td>\n",
              "      <td>f</td>\n",
              "      <td>35.0</td>\n",
              "      <td>PowerGeneration</td>\n",
              "      <td>HR</td>\n",
              "      <td>rabrecNErab</td>\n",
              "      <td>no</td>\n",
              "      <td>m</td>\n",
              "      <td>white</td>\n",
              "      <td>bus</td>\n",
              "      <td>6.2</td>\n",
              "      <td>6.2</td>\n",
              "      <td>2.6</td>\n",
              "      <td>4.8</td>\n",
              "      <td>8.3</td>\n",
              "    </tr>\n",
              "    <tr>\n",
              "      <th>3</th>\n",
              "      <td>15.934292</td>\n",
              "      <td>1</td>\n",
              "      <td>f</td>\n",
              "      <td>35.0</td>\n",
              "      <td>PowerGeneration</td>\n",
              "      <td>HR</td>\n",
              "      <td>rabrecNErab</td>\n",
              "      <td>no</td>\n",
              "      <td>m</td>\n",
              "      <td>white</td>\n",
              "      <td>bus</td>\n",
              "      <td>5.4</td>\n",
              "      <td>7.6</td>\n",
              "      <td>4.9</td>\n",
              "      <td>2.5</td>\n",
              "      <td>6.7</td>\n",
              "    </tr>\n",
              "    <tr>\n",
              "      <th>4</th>\n",
              "      <td>8.410678</td>\n",
              "      <td>1</td>\n",
              "      <td>m</td>\n",
              "      <td>32.0</td>\n",
              "      <td>Retail</td>\n",
              "      <td>Commercial</td>\n",
              "      <td>youjs</td>\n",
              "      <td>yes</td>\n",
              "      <td>f</td>\n",
              "      <td>white</td>\n",
              "      <td>bus</td>\n",
              "      <td>3.0</td>\n",
              "      <td>4.1</td>\n",
              "      <td>8.0</td>\n",
              "      <td>7.1</td>\n",
              "      <td>3.7</td>\n",
              "    </tr>\n",
              "  </tbody>\n",
              "</table>\n",
              "</div>\n",
              "    <div class=\"colab-df-buttons\">\n",
              "\n",
              "  <div class=\"colab-df-container\">\n",
              "    <button class=\"colab-df-convert\" onclick=\"convertToInteractive('df-b13b2cd5-3334-41ea-ad84-5d512d50233c')\"\n",
              "            title=\"Convert this dataframe to an interactive table.\"\n",
              "            style=\"display:none;\">\n",
              "\n",
              "  <svg xmlns=\"http://www.w3.org/2000/svg\" height=\"24px\" viewBox=\"0 -960 960 960\">\n",
              "    <path d=\"M120-120v-720h720v720H120Zm60-500h600v-160H180v160Zm220 220h160v-160H400v160Zm0 220h160v-160H400v160ZM180-400h160v-160H180v160Zm440 0h160v-160H620v160ZM180-180h160v-160H180v160Zm440 0h160v-160H620v160Z\"/>\n",
              "  </svg>\n",
              "    </button>\n",
              "\n",
              "  <style>\n",
              "    .colab-df-container {\n",
              "      display:flex;\n",
              "      gap: 12px;\n",
              "    }\n",
              "\n",
              "    .colab-df-convert {\n",
              "      background-color: #E8F0FE;\n",
              "      border: none;\n",
              "      border-radius: 50%;\n",
              "      cursor: pointer;\n",
              "      display: none;\n",
              "      fill: #1967D2;\n",
              "      height: 32px;\n",
              "      padding: 0 0 0 0;\n",
              "      width: 32px;\n",
              "    }\n",
              "\n",
              "    .colab-df-convert:hover {\n",
              "      background-color: #E2EBFA;\n",
              "      box-shadow: 0px 1px 2px rgba(60, 64, 67, 0.3), 0px 1px 3px 1px rgba(60, 64, 67, 0.15);\n",
              "      fill: #174EA6;\n",
              "    }\n",
              "\n",
              "    .colab-df-buttons div {\n",
              "      margin-bottom: 4px;\n",
              "    }\n",
              "\n",
              "    [theme=dark] .colab-df-convert {\n",
              "      background-color: #3B4455;\n",
              "      fill: #D2E3FC;\n",
              "    }\n",
              "\n",
              "    [theme=dark] .colab-df-convert:hover {\n",
              "      background-color: #434B5C;\n",
              "      box-shadow: 0px 1px 3px 1px rgba(0, 0, 0, 0.15);\n",
              "      filter: drop-shadow(0px 1px 2px rgba(0, 0, 0, 0.3));\n",
              "      fill: #FFFFFF;\n",
              "    }\n",
              "  </style>\n",
              "\n",
              "    <script>\n",
              "      const buttonEl =\n",
              "        document.querySelector('#df-b13b2cd5-3334-41ea-ad84-5d512d50233c button.colab-df-convert');\n",
              "      buttonEl.style.display =\n",
              "        google.colab.kernel.accessAllowed ? 'block' : 'none';\n",
              "\n",
              "      async function convertToInteractive(key) {\n",
              "        const element = document.querySelector('#df-b13b2cd5-3334-41ea-ad84-5d512d50233c');\n",
              "        const dataTable =\n",
              "          await google.colab.kernel.invokeFunction('convertToInteractive',\n",
              "                                                    [key], {});\n",
              "        if (!dataTable) return;\n",
              "\n",
              "        const docLinkHtml = 'Like what you see? Visit the ' +\n",
              "          '<a target=\"_blank\" href=https://colab.research.google.com/notebooks/data_table.ipynb>data table notebook</a>'\n",
              "          + ' to learn more about interactive tables.';\n",
              "        element.innerHTML = '';\n",
              "        dataTable['output_type'] = 'display_data';\n",
              "        await google.colab.output.renderOutput(dataTable, element);\n",
              "        const docLink = document.createElement('div');\n",
              "        docLink.innerHTML = docLinkHtml;\n",
              "        element.appendChild(docLink);\n",
              "      }\n",
              "    </script>\n",
              "  </div>\n",
              "\n",
              "\n",
              "<div id=\"df-dbbd13ff-bf51-40e5-81cd-9749760292fa\">\n",
              "  <button class=\"colab-df-quickchart\" onclick=\"quickchart('df-dbbd13ff-bf51-40e5-81cd-9749760292fa')\"\n",
              "            title=\"Suggest charts\"\n",
              "            style=\"display:none;\">\n",
              "\n",
              "<svg xmlns=\"http://www.w3.org/2000/svg\" height=\"24px\"viewBox=\"0 0 24 24\"\n",
              "     width=\"24px\">\n",
              "    <g>\n",
              "        <path d=\"M19 3H5c-1.1 0-2 .9-2 2v14c0 1.1.9 2 2 2h14c1.1 0 2-.9 2-2V5c0-1.1-.9-2-2-2zM9 17H7v-7h2v7zm4 0h-2V7h2v10zm4 0h-2v-4h2v4z\"/>\n",
              "    </g>\n",
              "</svg>\n",
              "  </button>\n",
              "\n",
              "<style>\n",
              "  .colab-df-quickchart {\n",
              "      --bg-color: #E8F0FE;\n",
              "      --fill-color: #1967D2;\n",
              "      --hover-bg-color: #E2EBFA;\n",
              "      --hover-fill-color: #174EA6;\n",
              "      --disabled-fill-color: #AAA;\n",
              "      --disabled-bg-color: #DDD;\n",
              "  }\n",
              "\n",
              "  [theme=dark] .colab-df-quickchart {\n",
              "      --bg-color: #3B4455;\n",
              "      --fill-color: #D2E3FC;\n",
              "      --hover-bg-color: #434B5C;\n",
              "      --hover-fill-color: #FFFFFF;\n",
              "      --disabled-bg-color: #3B4455;\n",
              "      --disabled-fill-color: #666;\n",
              "  }\n",
              "\n",
              "  .colab-df-quickchart {\n",
              "    background-color: var(--bg-color);\n",
              "    border: none;\n",
              "    border-radius: 50%;\n",
              "    cursor: pointer;\n",
              "    display: none;\n",
              "    fill: var(--fill-color);\n",
              "    height: 32px;\n",
              "    padding: 0;\n",
              "    width: 32px;\n",
              "  }\n",
              "\n",
              "  .colab-df-quickchart:hover {\n",
              "    background-color: var(--hover-bg-color);\n",
              "    box-shadow: 0 1px 2px rgba(60, 64, 67, 0.3), 0 1px 3px 1px rgba(60, 64, 67, 0.15);\n",
              "    fill: var(--button-hover-fill-color);\n",
              "  }\n",
              "\n",
              "  .colab-df-quickchart-complete:disabled,\n",
              "  .colab-df-quickchart-complete:disabled:hover {\n",
              "    background-color: var(--disabled-bg-color);\n",
              "    fill: var(--disabled-fill-color);\n",
              "    box-shadow: none;\n",
              "  }\n",
              "\n",
              "  .colab-df-spinner {\n",
              "    border: 2px solid var(--fill-color);\n",
              "    border-color: transparent;\n",
              "    border-bottom-color: var(--fill-color);\n",
              "    animation:\n",
              "      spin 1s steps(1) infinite;\n",
              "  }\n",
              "\n",
              "  @keyframes spin {\n",
              "    0% {\n",
              "      border-color: transparent;\n",
              "      border-bottom-color: var(--fill-color);\n",
              "      border-left-color: var(--fill-color);\n",
              "    }\n",
              "    20% {\n",
              "      border-color: transparent;\n",
              "      border-left-color: var(--fill-color);\n",
              "      border-top-color: var(--fill-color);\n",
              "    }\n",
              "    30% {\n",
              "      border-color: transparent;\n",
              "      border-left-color: var(--fill-color);\n",
              "      border-top-color: var(--fill-color);\n",
              "      border-right-color: var(--fill-color);\n",
              "    }\n",
              "    40% {\n",
              "      border-color: transparent;\n",
              "      border-right-color: var(--fill-color);\n",
              "      border-top-color: var(--fill-color);\n",
              "    }\n",
              "    60% {\n",
              "      border-color: transparent;\n",
              "      border-right-color: var(--fill-color);\n",
              "    }\n",
              "    80% {\n",
              "      border-color: transparent;\n",
              "      border-right-color: var(--fill-color);\n",
              "      border-bottom-color: var(--fill-color);\n",
              "    }\n",
              "    90% {\n",
              "      border-color: transparent;\n",
              "      border-bottom-color: var(--fill-color);\n",
              "    }\n",
              "  }\n",
              "</style>\n",
              "\n",
              "  <script>\n",
              "    async function quickchart(key) {\n",
              "      const quickchartButtonEl =\n",
              "        document.querySelector('#' + key + ' button');\n",
              "      quickchartButtonEl.disabled = true;  // To prevent multiple clicks.\n",
              "      quickchartButtonEl.classList.add('colab-df-spinner');\n",
              "      try {\n",
              "        const charts = await google.colab.kernel.invokeFunction(\n",
              "            'suggestCharts', [key], {});\n",
              "      } catch (error) {\n",
              "        console.error('Error during call to suggestCharts:', error);\n",
              "      }\n",
              "      quickchartButtonEl.classList.remove('colab-df-spinner');\n",
              "      quickchartButtonEl.classList.add('colab-df-quickchart-complete');\n",
              "    }\n",
              "    (() => {\n",
              "      let quickchartButtonEl =\n",
              "        document.querySelector('#df-dbbd13ff-bf51-40e5-81cd-9749760292fa button');\n",
              "      quickchartButtonEl.style.display =\n",
              "        google.colab.kernel.accessAllowed ? 'block' : 'none';\n",
              "    })();\n",
              "  </script>\n",
              "</div>\n",
              "\n",
              "    </div>\n",
              "  </div>\n"
            ],
            "application/vnd.google.colaboratory.intrinsic+json": {
              "type": "dataframe",
              "variable_name": "df",
              "summary": "{\n  \"name\": \"df\",\n  \"rows\": 1129,\n  \"fields\": [\n    {\n      \"column\": \"stag\",\n      \"properties\": {\n        \"dtype\": \"number\",\n        \"std\": 34.09659697145452,\n        \"min\": 0.394250513,\n        \"max\": 179.449692,\n        \"num_unique_values\": 773,\n        \"samples\": [\n          50.20123203,\n          20.96098563,\n          1.18275154\n        ],\n        \"semantic_type\": \"\",\n        \"description\": \"\"\n      }\n    },\n    {\n      \"column\": \"event\",\n      \"properties\": {\n        \"dtype\": \"number\",\n        \"std\": 0,\n        \"min\": 0,\n        \"max\": 1,\n        \"num_unique_values\": 2,\n        \"samples\": [\n          0,\n          1\n        ],\n        \"semantic_type\": \"\",\n        \"description\": \"\"\n      }\n    },\n    {\n      \"column\": \"gender\",\n      \"properties\": {\n        \"dtype\": \"category\",\n        \"num_unique_values\": 2,\n        \"samples\": [\n          \"f\",\n          \"m\"\n        ],\n        \"semantic_type\": \"\",\n        \"description\": \"\"\n      }\n    },\n    {\n      \"column\": \"age\",\n      \"properties\": {\n        \"dtype\": \"number\",\n        \"std\": 6.9961472228870845,\n        \"min\": 18.0,\n        \"max\": 58.0,\n        \"num_unique_values\": 39,\n        \"samples\": [\n          41.0,\n          56.0\n        ],\n        \"semantic_type\": \"\",\n        \"description\": \"\"\n      }\n    },\n    {\n      \"column\": \"industry\",\n      \"properties\": {\n        \"dtype\": \"category\",\n        \"num_unique_values\": 16,\n        \"samples\": [\n          \"Banks\",\n          \"PowerGeneration\"\n        ],\n        \"semantic_type\": \"\",\n        \"description\": \"\"\n      }\n    },\n    {\n      \"column\": \"profession\",\n      \"properties\": {\n        \"dtype\": \"category\",\n        \"num_unique_values\": 15,\n        \"samples\": [\n          \"IT\",\n          \"Consult\"\n        ],\n        \"semantic_type\": \"\",\n        \"description\": \"\"\n      }\n    },\n    {\n      \"column\": \"traffic\",\n      \"properties\": {\n        \"dtype\": \"category\",\n        \"num_unique_values\": 8,\n        \"samples\": [\n          \"empjs\",\n          \"KA\"\n        ],\n        \"semantic_type\": \"\",\n        \"description\": \"\"\n      }\n    },\n    {\n      \"column\": \"coach\",\n      \"properties\": {\n        \"dtype\": \"category\",\n        \"num_unique_values\": 3,\n        \"samples\": [\n          \"no\",\n          \"yes\"\n        ],\n        \"semantic_type\": \"\",\n        \"description\": \"\"\n      }\n    },\n    {\n      \"column\": \"head_gender\",\n      \"properties\": {\n        \"dtype\": \"category\",\n        \"num_unique_values\": 2,\n        \"samples\": [\n          \"m\",\n          \"f\"\n        ],\n        \"semantic_type\": \"\",\n        \"description\": \"\"\n      }\n    },\n    {\n      \"column\": \"greywage\",\n      \"properties\": {\n        \"dtype\": \"category\",\n        \"num_unique_values\": 2,\n        \"samples\": [\n          \"grey\",\n          \"white\"\n        ],\n        \"semantic_type\": \"\",\n        \"description\": \"\"\n      }\n    },\n    {\n      \"column\": \"way\",\n      \"properties\": {\n        \"dtype\": \"category\",\n        \"num_unique_values\": 3,\n        \"samples\": [\n          \"bus\",\n          \"car\"\n        ],\n        \"semantic_type\": \"\",\n        \"description\": \"\"\n      }\n    },\n    {\n      \"column\": \"extraversion\",\n      \"properties\": {\n        \"dtype\": \"number\",\n        \"std\": 1.8516368287695648,\n        \"min\": 1.0,\n        \"max\": 10.0,\n        \"num_unique_values\": 13,\n        \"samples\": [\n          2.2,\n          1.4\n        ],\n        \"semantic_type\": \"\",\n        \"description\": \"\"\n      }\n    },\n    {\n      \"column\": \"independ\",\n      \"properties\": {\n        \"dtype\": \"number\",\n        \"std\": 1.7033121766741899,\n        \"min\": 1.0,\n        \"max\": 10.0,\n        \"num_unique_values\": 15,\n        \"samples\": [\n          2.6,\n          9.1\n        ],\n        \"semantic_type\": \"\",\n        \"description\": \"\"\n      }\n    },\n    {\n      \"column\": \"selfcontrol\",\n      \"properties\": {\n        \"dtype\": \"number\",\n        \"std\": 1.9801008033751777,\n        \"min\": 1.0,\n        \"max\": 10.0,\n        \"num_unique_values\": 13,\n        \"samples\": [\n          1.0,\n          8.7\n        ],\n        \"semantic_type\": \"\",\n        \"description\": \"\"\n      }\n    },\n    {\n      \"column\": \"anxiety\",\n      \"properties\": {\n        \"dtype\": \"number\",\n        \"std\": 1.709175948272234,\n        \"min\": 1.7,\n        \"max\": 10.0,\n        \"num_unique_values\": 12,\n        \"samples\": [\n          1.7,\n          9.4\n        ],\n        \"semantic_type\": \"\",\n        \"description\": \"\"\n      }\n    },\n    {\n      \"column\": \"novator\",\n      \"properties\": {\n        \"dtype\": \"number\",\n        \"std\": 1.9040157831856643,\n        \"min\": 1.0,\n        \"max\": 10.0,\n        \"num_unique_values\": 14,\n        \"samples\": [\n          2.9,\n          1.0\n        ],\n        \"semantic_type\": \"\",\n        \"description\": \"\"\n      }\n    }\n  ]\n}"
            }
          },
          "metadata": {},
          "execution_count": 2
        }
      ]
    },
    {
      "cell_type": "code",
      "source": [
        "df.info()"
      ],
      "metadata": {
        "colab": {
          "base_uri": "https://localhost:8080/"
        },
        "id": "fSDFcK6PbNbw",
        "outputId": "e3d2081d-5b71-4108-ebf5-ccdd1c5c7917"
      },
      "execution_count": 3,
      "outputs": [
        {
          "output_type": "stream",
          "name": "stdout",
          "text": [
            "<class 'pandas.core.frame.DataFrame'>\n",
            "RangeIndex: 1129 entries, 0 to 1128\n",
            "Data columns (total 16 columns):\n",
            " #   Column        Non-Null Count  Dtype  \n",
            "---  ------        --------------  -----  \n",
            " 0   stag          1129 non-null   float64\n",
            " 1   event         1129 non-null   int64  \n",
            " 2   gender        1129 non-null   object \n",
            " 3   age           1129 non-null   float64\n",
            " 4   industry      1129 non-null   object \n",
            " 5   profession    1129 non-null   object \n",
            " 6   traffic       1129 non-null   object \n",
            " 7   coach         1129 non-null   object \n",
            " 8   head_gender   1129 non-null   object \n",
            " 9   greywage      1129 non-null   object \n",
            " 10  way           1129 non-null   object \n",
            " 11  extraversion  1129 non-null   float64\n",
            " 12  independ      1129 non-null   float64\n",
            " 13  selfcontrol   1129 non-null   float64\n",
            " 14  anxiety       1129 non-null   float64\n",
            " 15  novator       1129 non-null   float64\n",
            "dtypes: float64(7), int64(1), object(8)\n",
            "memory usage: 141.2+ KB\n"
          ]
        }
      ]
    },
    {
      "cell_type": "code",
      "source": [
        "\n",
        "# Handling missing values by filling them with the mean or dropping if appropriate\n",
        "df.fillna(df.mean(), inplace=True)\n",
        "\n",
        "# Encoding categorical variables (e.g., JobRole)\n",
        "le = LabelEncoder()\n",
        "df['JobRole'] = le.fit_transform(df['JobRole'])\n",
        "\n",
        "# Scaling numerical features\n",
        "scaler = StandardScaler()\n",
        "df[['Age', 'Salary', 'Tenure']] = scaler.fit_transform(df[['Age', 'Salary', 'Tenure']])\n"
      ],
      "metadata": {
        "id": "y5WpIIJTbDsa"
      },
      "execution_count": null,
      "outputs": []
    }
  ]
}